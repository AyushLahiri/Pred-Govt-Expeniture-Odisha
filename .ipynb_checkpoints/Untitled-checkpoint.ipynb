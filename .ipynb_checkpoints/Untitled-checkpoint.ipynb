{
 "cells": [
  {
   "cell_type": "markdown",
   "id": "79142879-4a87-452a-bc00-5c55289d1b7d",
   "metadata": {},
   "source": [
    "This is Brian's Notebook in the Final Project folder"
   ]
  },
  {
   "cell_type": "code",
   "execution_count": 1,
   "id": "eb4de09c-8aa3-4a5f-a5be-2f1069545767",
   "metadata": {},
   "outputs": [
    {
     "name": "stdout",
     "output_type": "stream",
     "text": [
      "This is a code cell.  So what?\n"
     ]
    }
   ],
   "source": [
    "print(\"This is a code cell.  So what?\")"
   ]
  }
 ],
 "metadata": {
  "kernelspec": {
   "display_name": "Python 3 (ipykernel)",
   "language": "python",
   "name": "python3"
  },
  "language_info": {
   "codemirror_mode": {
    "name": "ipython",
    "version": 3
   },
   "file_extension": ".py",
   "mimetype": "text/x-python",
   "name": "python",
   "nbconvert_exporter": "python",
   "pygments_lexer": "ipython3",
   "version": "3.9.12"
  }
 },
 "nbformat": 4,
 "nbformat_minor": 5
}
